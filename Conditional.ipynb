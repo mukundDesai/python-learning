{
 "cells": [
  {
   "cell_type": "code",
   "execution_count": null,
   "metadata": {},
   "outputs": [],
   "source": [
    "n = 10\n",
    "if n%2 == 0:\n",
    "    print(\"{} is even\".format(n))\n",
    "else:\n",
    "    print(\"{} is odd\".format(n))"
   ]
  },
  {
   "cell_type": "code",
   "execution_count": 9,
   "metadata": {},
   "outputs": [
    {
     "name": "stdout",
     "output_type": "stream",
     "text": [
      "greatest number is 10\n"
     ]
    }
   ],
   "source": [
    "# greatest among 3\n",
    "n1, n2, n3 = 10, 2, 4\n",
    "res = \"greatest number is \"\n",
    "if n1 > n2:\n",
    "    if n1 > n3:\n",
    "        print(res + str(n1))\n",
    "    else:\n",
    "        print(res + str(n3))\n",
    "else:\n",
    "    if n2 > n3:\n",
    "        print(res + str(n2))\n",
    "    else:\n",
    "        print(res + str(n3))"
   ]
  },
  {
   "cell_type": "code",
   "execution_count": 11,
   "metadata": {},
   "outputs": [
    {
     "name": "stdout",
     "output_type": "stream",
     "text": [
      "Fayl\n"
     ]
    }
   ],
   "source": [
    "# Grading\n",
    "sub1, sub2, sub3 = 75, 75, 75\n",
    "res = \"Student result is \"\n",
    "per = (sub1 + sub2 + sub3)/3\n",
    "if per > 90:\n",
    "    print(\"A1\")\n",
    "elif per > 80:\n",
    "    print(\"A\")\n",
    "elif per > 40:\n",
    "    print(\"Fayl\")\n",
    "else:\n",
    "    print(\"fail\")\n",
    "    "
   ]
  },
  {
   "cell_type": "code",
   "execution_count": null,
   "metadata": {},
   "outputs": [],
   "source": []
  }
 ],
 "metadata": {
  "kernelspec": {
   "display_name": "Python 3",
   "language": "python",
   "name": "python3"
  },
  "language_info": {
   "codemirror_mode": {
    "name": "ipython",
    "version": 3
   },
   "file_extension": ".py",
   "mimetype": "text/x-python",
   "name": "python",
   "nbconvert_exporter": "python",
   "pygments_lexer": "ipython3",
   "version": "3.7.6"
  }
 },
 "nbformat": 4,
 "nbformat_minor": 4
}
