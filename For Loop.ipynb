{
 "cells": [
  {
   "cell_type": "markdown",
   "metadata": {},
   "source": [
    " # For loop\n",
    "     It is alooping structure iterates a fixed number of times or through a iterable data structure(list, tupple, dict, set)\n",
    "  ## support function\n",
    "      1. range() - takes two or three arguments (start, end, step)\n",
    "      2. len() - returns length of a list\n",
    "      3. items() - returns the key value from the dict\n",
    "  ## controlling flow\n",
    "      1. break\n",
    "      2. continue"
   ]
  },
  {
   "cell_type": "code",
   "execution_count": 3,
   "metadata": {},
   "outputs": [
    {
     "name": "stdout",
     "output_type": "stream",
     "text": [
      "0->1->2->3->4->5->6->7->8->9\n"
     ]
    }
   ],
   "source": [
    "#printng 1 to 9\n",
    "for i in range(10):\n",
    "    if i != 9:\n",
    "        print(i, end='->')\n",
    "    else:\n",
    "        print(i)\n",
    "    "
   ]
  },
  {
   "cell_type": "code",
   "execution_count": null,
   "metadata": {},
   "outputs": [],
   "source": [
    "# printing 1-4 and 6-9\n",
    "for i in range(10):\n",
    "    if i != 5:\n",
    "        print(i, end='->')\n",
    "    else:\n",
    "        \n",
    "        \n",
    "  "
   ]
  }
 ],
 "metadata": {
  "kernelspec": {
   "display_name": "Python 3",
   "language": "python",
   "name": "python3"
  },
  "language_info": {
   "codemirror_mode": {
    "name": "ipython",
    "version": 3
   },
   "file_extension": ".py",
   "mimetype": "text/x-python",
   "name": "python",
   "nbconvert_exporter": "python",
   "pygments_lexer": "ipython3",
   "version": "3.7.6"
  }
 },
 "nbformat": 4,
 "nbformat_minor": 4
}
